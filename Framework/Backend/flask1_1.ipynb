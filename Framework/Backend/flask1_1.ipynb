{
 "cells": [
  {
   "cell_type": "markdown",
   "id": "e664e6ad",
   "metadata": {},
   "source": [
    "# 调包"
   ]
  },
  {
   "cell_type": "code",
   "execution_count": 1,
   "id": "a9d61871",
   "metadata": {},
   "outputs": [],
   "source": [
    "import tushare as ts\n",
    "import pandas as pd\n",
    "import numpy as np\n",
    "from flask import Flask\n",
    "import string\n",
    "from datetime import datetime"
   ]
  },
  {
   "cell_type": "code",
   "execution_count": 2,
   "id": "96c82845",
   "metadata": {},
   "outputs": [],
   "source": [
    "app = Flask(__name__)"
   ]
  },
  {
   "cell_type": "markdown",
   "id": "a053d0d5",
   "metadata": {},
   "source": [
    "# 接入API"
   ]
  },
  {
   "cell_type": "code",
   "execution_count": 3,
   "id": "387864fb",
   "metadata": {},
   "outputs": [],
   "source": [
    "token='a9e59626e55bb3444009b846bc03be03b91eaaf87ee49c9a95b74ef6'\n",
    "ts.set_token(token)\n",
    "pro = ts.pro_api()"
   ]
  },
  {
   "cell_type": "markdown",
   "id": "6a26d530",
   "metadata": {},
   "source": [
    "# 目标1\n",
    "\n",
    "用户给定ts_code,返回：①ts_code错误②ts_code正确"
   ]
  },
  {
   "cell_type": "markdown",
   "id": "9c460fa9",
   "metadata": {},
   "source": [
    "# is_ts_code()\n",
    "\n",
    "判断用户输入的ts_code是否正确"
   ]
  },
  {
   "cell_type": "code",
   "execution_count": 4,
   "id": "9ea6d033",
   "metadata": {},
   "outputs": [],
   "source": [
    "def is_ts_code(ts_code):\n",
    "    '''\n",
    "    查询字符串是否符合：XX.XX的格式\n",
    "    获取.后的字符\n",
    "    查询字符是否在交易所列表中\n",
    "    通过字典方法获得交易所全称\n",
    "    通过fut_basic获得交易所所有期货的ts_code列表\n",
    "    查询ts_code是否在该列表中\n",
    "    '''\n",
    "    is_index = 0\n",
    "    if '.' in ts_code:\n",
    "        exchange = ts_code.split('.')[-1]\n",
    "        if exchange in ['CFX','DCE','ZCE','SHF','INE','GFE']:\n",
    "            map_dic = dict(zip(['CFX','DCE','ZCE','SHF','INE','GFE'],['CFFEX','DCE','CZCE','SHFE','INE','GFEX']))\n",
    "            exchange_real = map_dic[exchange]\n",
    "            ts_code_lst = list(pro.fut_basic(exchange=exchange_real, fut_type='1', fields='ts_code')['ts_code'])\n",
    "            if ts_code in ts_code_lst:\n",
    "                is_index = 1\n",
    "    return is_index"
   ]
  },
  {
   "cell_type": "code",
   "execution_count": 5,
   "id": "1225c245",
   "metadata": {},
   "outputs": [
    {
     "data": {
      "text/plain": [
       "0"
      ]
     },
     "execution_count": 5,
     "metadata": {},
     "output_type": "execute_result"
    }
   ],
   "source": [
    "is_ts_code('CU1811SHF')"
   ]
  },
  {
   "cell_type": "code",
   "execution_count": 6,
   "id": "e8ff1ae1",
   "metadata": {},
   "outputs": [
    {
     "data": {
      "text/plain": [
       "1"
      ]
     },
     "execution_count": 6,
     "metadata": {},
     "output_type": "execute_result"
    }
   ],
   "source": [
    "is_ts_code('CU1811.SHF')"
   ]
  },
  {
   "cell_type": "code",
   "execution_count": 7,
   "id": "90c5dddd",
   "metadata": {},
   "outputs": [],
   "source": [
    "@app.route('/<ts_code>')\n",
    "def goal_1(ts_code):\n",
    "    '''\n",
    "    查询字符串是否符合：XX.XX的格式\n",
    "    获取.后的字符\n",
    "    查询字符是否在交易所列表中\n",
    "    通过字典方法获得交易所全称\n",
    "    通过fut_basic获得交易所所有期货的ts_code列表\n",
    "    查询ts_code是否在该列表中\n",
    "    '''\n",
    "    is_ts_code_index = is_ts_code(ts_code)\n",
    "    if is_ts_code_index == 1:\n",
    "        return 'ts_code正确'\n",
    "    else:\n",
    "        return 'ts_code错误'\n",
    "       "
   ]
  },
  {
   "cell_type": "markdown",
   "id": "b0066760",
   "metadata": {},
   "source": [
    "# 目标2\n",
    "\n",
    "用户给定ts_code和时间，返回：①ts_code错误 ②ts_code正确但是时间不正确 ③ts_code正确且时间正确，返回数据"
   ]
  },
  {
   "cell_type": "markdown",
   "id": "8fc54eca",
   "metadata": {},
   "source": [
    "# is_time():\n",
    "\n",
    "用户输入时间格式是否符合年份月份日期格式以及是否满足基本法（比如日期为32一定错了，闰年二月可以有29号）"
   ]
  },
  {
   "cell_type": "code",
   "execution_count": 8,
   "id": "29b0a198",
   "metadata": {},
   "outputs": [],
   "source": [
    "def time_tran(time):\n",
    "        '''\n",
    "        把Ymd转化为Y-m-d，方便后续处理\n",
    "        '''\n",
    "        year = time[0:4]\n",
    "        month = time[4:6]\n",
    "        date = time[6:]\n",
    "        date_str = year + '-' + month + '-' + date\n",
    "        return date_str"
   ]
  },
  {
   "cell_type": "code",
   "execution_count": 9,
   "id": "a43ad99c",
   "metadata": {},
   "outputs": [],
   "source": [
    "def is_time(time):\n",
    "    is_index = 0\n",
    "    if len(time) == 8:\n",
    "        date_str = time_tran(time)\n",
    "        try:\n",
    "            date_object = datetime.strptime(date_str, '%Y-%m-%d')\n",
    "        except ValueError:\n",
    "            pass\n",
    "        else:\n",
    "            is_index = 1\n",
    "    return is_index"
   ]
  },
  {
   "cell_type": "code",
   "execution_count": 10,
   "id": "06358d4d",
   "metadata": {},
   "outputs": [
    {
     "data": {
      "text/plain": [
       "0"
      ]
     },
     "execution_count": 10,
     "metadata": {},
     "output_type": "execute_result"
    }
   ],
   "source": [
    "is_time('2018201')"
   ]
  },
  {
   "cell_type": "code",
   "execution_count": 11,
   "id": "f1d9305f",
   "metadata": {},
   "outputs": [
    {
     "data": {
      "text/plain": [
       "0"
      ]
     },
     "execution_count": 11,
     "metadata": {},
     "output_type": "execute_result"
    }
   ],
   "source": [
    "is_time('20180231')"
   ]
  },
  {
   "cell_type": "code",
   "execution_count": 12,
   "id": "329b8cbf",
   "metadata": {},
   "outputs": [
    {
     "data": {
      "text/plain": [
       "1"
      ]
     },
     "execution_count": 12,
     "metadata": {},
     "output_type": "execute_result"
    }
   ],
   "source": [
    "is_time('20180201')"
   ]
  },
  {
   "cell_type": "code",
   "execution_count": 13,
   "id": "a636ca0e",
   "metadata": {},
   "outputs": [],
   "source": [
    "def is_heyue(ts_code,start_time,end_time):\n",
    "    exchange = ts_code.split('.')[-1]\n",
    "    map_dic = dict(zip(['CFX','DCE','ZCE','SHF','INE','GFE'],['CFFEX','DCE','CZCE','SHFE','INE','GFEX']))\n",
    "    exchange_real = map_dic[exchange]\n",
    "    df = pro.fut_basic(exchange=exchange_real, fut_type='1', fields='ts_code,list_date,delist_date')\n",
    "    st = list(df[df['ts_code']==ts_code]['list_date'])[0]\n",
    "    ed = list(df[df['ts_code']==ts_code]['delist_date'])[0]\n",
    "    #判断是否在合约期间\n",
    "    st_1 = datetime.strptime(time_tran(start_time),'%Y-%m-%d')\n",
    "    st_2 = datetime.strptime(time_tran(st),'%Y-%m-%d')\n",
    "    ed_1 = datetime.strptime(time_tran(end_time),'%Y-%m-%d')\n",
    "    ed_2 = datetime.strptime(time_tran(ed),'%Y-%m-%d')\n",
    "    if (st_1 >= st_2) and (ed_1 <= ed_2):\n",
    "        return 1"
   ]
  },
  {
   "cell_type": "code",
   "execution_count": 14,
   "id": "bc4f236b",
   "metadata": {},
   "outputs": [],
   "source": [
    "@app.route('/<ts_code>/st=<start_time>ed=<end_time>')\n",
    "def goal_2(ts_code,start_time,end_time):\n",
    "    '''\n",
    "    ts_code是否正确\n",
    "    st和ed格式是否正确\n",
    "    获取ts_code合约时间\n",
    "    查询st和ed是否在该范围内\n",
    "    返回所有时间\n",
    "    '''\n",
    "    is_ts_index = is_ts_code(ts_code)\n",
    "    is_st_index = is_time(start_time)\n",
    "    is_ed_index = is_time(end_time)\n",
    "    if is_ts_index:\n",
    "        if is_st_index and is_ed_index:\n",
    "            if is_heyue(ts_code,start_time,end_time):\n",
    "                result = pro.fut_daily(ts_code= ts_code , start_date = start_time, end_date = end_time)\n",
    "                return result.to_json(orient=\"records\", force_ascii=False)\n",
    "            else:\n",
    "                return '输入时间段不在合约期间'\n",
    "        else:\n",
    "            return '时间格式错误'\n",
    "    else:\n",
    "        return 'ts_code错误'\n",
    "    "
   ]
  },
  {
   "cell_type": "markdown",
   "id": "ad01c484",
   "metadata": {},
   "source": [
    "# 目标3\n",
    "\n",
    "用户给定ts_code和时间和index(high,low,close,open),返回：①ts_code错误 ②ts_code正确但是时间不正确 ③ts_code正确且时间正确，返回数据"
   ]
  },
  {
   "cell_type": "code",
   "execution_count": 15,
   "id": "d3bc4cbe",
   "metadata": {},
   "outputs": [],
   "source": [
    "@app.route('/<ts_code>/st=<start_time>ed=<end_time>/<key>')\n",
    "def goal_3(ts_code,start_time,end_time,key):\n",
    "    is_ts_index = is_ts_code(ts_code)\n",
    "    is_st_index = is_time(start_time)\n",
    "    is_ed_index = is_time(end_time)\n",
    "    if is_ts_index:\n",
    "        if is_st_index and is_ed_index:\n",
    "            if is_heyue(ts_code,start_time,end_time):\n",
    "                if key in ['open','high','low','close']:\n",
    "                    result = pro.fut_daily(ts_code= ts_code , start_date = start_time, end_date = end_time)[['trade_date',key]]\n",
    "                    return result.to_json(orient=\"records\", force_ascii=False)\n",
    "                else:\n",
    "                    return '关键词必须为：open high low close'\n",
    "            else:\n",
    "                return '输入时间段不在合约期间'\n",
    "        else:\n",
    "            return '时间格式错误'\n",
    "    else:\n",
    "        return 'ts_code错误'"
   ]
  },
  {
   "cell_type": "code",
   "execution_count": null,
   "id": "a6daa780",
   "metadata": {},
   "outputs": [
    {
     "name": "stdout",
     "output_type": "stream",
     "text": [
      " * Serving Flask app '__main__'\n",
      " * Debug mode: off\n",
      "2023-03-12 01:38:40,829 - werkzeug - INFO - \u001b[31m\u001b[1mWARNING: This is a development server. Do not use it in a production deployment. Use a production WSGI server instead.\u001b[0m\n",
      " * Running on http://127.0.0.1:5000\n",
      "2023-03-12 01:38:40,829 - werkzeug - INFO - \u001b[33mPress CTRL+C to quit\u001b[0m\n"
     ]
    }
   ],
   "source": [
    "if __name__ == '__main__':\n",
    "    app.run()"
   ]
  }
 ],
 "metadata": {
  "kernelspec": {
   "display_name": "Python 3",
   "language": "python",
   "name": "python3"
  },
  "language_info": {
   "codemirror_mode": {
    "name": "ipython",
    "version": 3
   },
   "file_extension": ".py",
   "mimetype": "text/x-python",
   "name": "python",
   "nbconvert_exporter": "python",
   "pygments_lexer": "ipython3",
   "version": "3.10.11 (tags/v3.10.11:7d4cc5a, Apr  5 2023, 00:38:17) [MSC v.1929 64 bit (AMD64)]"
  },
  "vscode": {
   "interpreter": {
    "hash": "854ad7b50770bedaf0cab730b1aaabb765566ea98036f134b639e260bede141e"
   }
  }
 },
 "nbformat": 4,
 "nbformat_minor": 5
}
