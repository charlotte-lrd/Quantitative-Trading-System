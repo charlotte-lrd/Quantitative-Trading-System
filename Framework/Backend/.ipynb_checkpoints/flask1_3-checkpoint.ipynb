{
 "cells": [
  {
   "cell_type": "markdown",
   "id": "cab4810f",
   "metadata": {},
   "source": [
    "相比1_2做出以下完善：\n",
    "\n",
    "\n",
    "1、将由tushare中获取的dataframe的trade_time的类型由：O修改为时间序列,同时改为升序排列\n",
    "\n",
    "\n",
    "2、将dataframe按时间正序排列\n",
    "\n",
    "\n",
    "3、增添了上传自定义代码的路径"
   ]
  },
  {
   "cell_type": "markdown",
   "id": "e664e6ad",
   "metadata": {},
   "source": [
    "# 调包"
   ]
  },
  {
   "cell_type": "code",
   "execution_count": 1,
   "id": "a9d61871",
   "metadata": {},
   "outputs": [],
   "source": [
    "import tushare as ts\n",
    "import pandas as pd\n",
    "import numpy as np\n",
    "from flask import Flask,render_template,request\n",
    "import string\n",
    "import datetime\n",
    "import os\n",
    "from werkzeug.utils import secure_filename\n",
    "import sys\n",
    "from flask_cors import CORS"
   ]
  },
  {
   "cell_type": "markdown",
   "id": "8e6ae6ce",
   "metadata": {},
   "source": [
    "# 系统策略"
   ]
  },
  {
   "cell_type": "code",
   "execution_count": 2,
   "id": "d2811481",
   "metadata": {},
   "outputs": [],
   "source": [
    "sys.path.append(r'.\\\\system strategy')\n",
    "from R_breaker import R_breaker"
   ]
  },
  {
   "cell_type": "code",
   "execution_count": 3,
   "id": "96c82845",
   "metadata": {},
   "outputs": [
    {
     "data": {
      "text/plain": [
       "<flask_cors.extension.CORS at 0x29f49ff4190>"
      ]
     },
     "execution_count": 3,
     "metadata": {},
     "output_type": "execute_result"
    }
   ],
   "source": [
    "app = Flask(__name__)\n",
    "CORS(app)\n"
   ]
  },
  {
   "cell_type": "code",
   "execution_count": 4,
   "id": "b0007d1d",
   "metadata": {},
   "outputs": [],
   "source": [
    "#定义全局变量:用于记录用户上传的自定义数据"
   ]
  },
  {
   "cell_type": "code",
   "execution_count": 5,
   "id": "485253cb",
   "metadata": {},
   "outputs": [],
   "source": [
    "index = 1"
   ]
  },
  {
   "cell_type": "markdown",
   "id": "a053d0d5",
   "metadata": {},
   "source": [
    "# 接入API"
   ]
  },
  {
   "cell_type": "code",
   "execution_count": 6,
   "id": "387864fb",
   "metadata": {},
   "outputs": [],
   "source": [
    "token='bdb08afc499e166575426cccc5aae85ae04cdb4196cd512ef310d04e'\n",
    "ts.set_token(token)\n",
    "pro = ts.pro_api()"
   ]
  },
  {
   "cell_type": "markdown",
   "id": "6a26d530",
   "metadata": {},
   "source": [
    "# 目标1\n",
    "\n",
    "用户给定ts_code,返回：①ts_code错误②ts_code正确"
   ]
  },
  {
   "cell_type": "markdown",
   "id": "9c460fa9",
   "metadata": {},
   "source": [
    "# is_ts_code()\n",
    "\n",
    "判断用户输入的ts_code是否正确"
   ]
  },
  {
   "cell_type": "code",
   "execution_count": 7,
   "id": "9ea6d033",
   "metadata": {},
   "outputs": [],
   "source": [
    "def is_ts_code(ts_code):\n",
    "    '''\n",
    "    查询字符串是否符合：XX.XX的格式\n",
    "    获取.后的字符\n",
    "    查询字符是否在交易所列表中\n",
    "    通过字典方法获得交易所全称\n",
    "    通过fut_basic获得交易所所有期货的ts_code列表\n",
    "    查询ts_code是否在该列表中\n",
    "    '''\n",
    "    is_index = 0\n",
    "    if '.' in ts_code:\n",
    "        exchange = ts_code.split('.')[-1]\n",
    "        if exchange in ['CFX','DCE','ZCE','SHF','INE','GFE']:\n",
    "            map_dic = dict(zip(['CFX','DCE','ZCE','SHF','INE','GFE'],['CFFEX','DCE','CZCE','SHFE','INE','GFEX']))\n",
    "            exchange_real = map_dic[exchange]\n",
    "            ts_code_lst = list(pro.fut_basic(exchange=exchange_real, fut_type='1', fields='ts_code')['ts_code'])\n",
    "            if ts_code in ts_code_lst:\n",
    "                is_index = 1\n",
    "    return is_index"
   ]
  },
  {
   "cell_type": "code",
   "execution_count": 8,
   "id": "90c5dddd",
   "metadata": {},
   "outputs": [],
   "source": [
    "@app.route('/<ts_code>')\n",
    "def goal_1(ts_code):\n",
    "    '''\n",
    "    查询字符串是否符合：XX.XX的格式\n",
    "    获取.后的字符\n",
    "    查询字符是否在交易所列表中\n",
    "    通过字典方法获得交易所全称\n",
    "    通过fut_basic获得交易所所有期货的ts_code列表\n",
    "    查询ts_code是否在该列表中\n",
    "    '''\n",
    "    is_ts_code_index = is_ts_code(ts_code)\n",
    "    if is_ts_code_index == 1:\n",
    "        return 'ts_code正确'\n",
    "    else:\n",
    "        return 'ts_code错误'\n",
    "       "
   ]
  },
  {
   "cell_type": "markdown",
   "id": "b0066760",
   "metadata": {},
   "source": [
    "# 目标2\n",
    "\n",
    "用户给定ts_code和时间，返回：①ts_code错误 ②ts_code正确但是时间不正确 ③ts_code正确且时间正确，返回用户所指定的frequency的数据"
   ]
  },
  {
   "cell_type": "markdown",
   "id": "8fc54eca",
   "metadata": {},
   "source": [
    "# is_time():\n",
    "\n",
    "用户输入时间格式是否符合年份月份日期格式以及是否满足基本法（比如日期为32一定错了，闰年二月可以有29号）"
   ]
  },
  {
   "cell_type": "code",
   "execution_count": 9,
   "id": "29b0a198",
   "metadata": {},
   "outputs": [],
   "source": [
    "def time_tran(time):\n",
    "        '''\n",
    "        把Ymd转化为Y-m-d，方便后续处理\n",
    "        '''\n",
    "        year = time[0:4]\n",
    "        month = time[4:6]\n",
    "        date = time[6:]\n",
    "        date_str = year + '-' + month + '-' + date\n",
    "        return date_str"
   ]
  },
  {
   "cell_type": "code",
   "execution_count": 10,
   "id": "a43ad99c",
   "metadata": {},
   "outputs": [],
   "source": [
    "def is_time(time):\n",
    "    is_index = 0\n",
    "    if len(time) == 8:\n",
    "        date_str = time_tran(time)\n",
    "        try:\n",
    "            date_object = datetime.strptime(date_str, '%Y-%m-%d')\n",
    "        except ValueError:\n",
    "            pass\n",
    "        else:\n",
    "            is_index = 1\n",
    "    return is_index"
   ]
  },
  {
   "cell_type": "markdown",
   "id": "5e1aadf2",
   "metadata": {},
   "source": [
    "# is_heyue()\n",
    "\n",
    "\n",
    "用户输入的时间是否在合约期内"
   ]
  },
  {
   "cell_type": "code",
   "execution_count": 11,
   "id": "a636ca0e",
   "metadata": {},
   "outputs": [],
   "source": [
    "def is_heyue(ts_code,start_time,end_time):\n",
    "    exchange = ts_code.split('.')[-1]\n",
    "    map_dic = dict(zip(['CFX','DCE','ZCE','SHF','INE','GFE'],['CFFEX','DCE','CZCE','SHFE','INE','GFEX']))\n",
    "    exchange_real = map_dic[exchange]\n",
    "    df = pro.fut_basic(exchange=exchange_real, fut_type='1', fields='ts_code,list_date,delist_date')\n",
    "    st = list(df[df['ts_code']==ts_code]['list_date'])[0]\n",
    "    ed = list(df[df['ts_code']==ts_code]['delist_date'])[0]\n",
    "    #判断是否在合约期间\n",
    "    st_1 = datetime.strptime(time_tran(start_time),'%Y-%m-%d')\n",
    "    st_2 = datetime.strptime(time_tran(st),'%Y-%m-%d')\n",
    "    ed_1 = datetime.strptime(time_tran(end_time),'%Y-%m-%d')\n",
    "    ed_2 = datetime.strptime(time_tran(ed),'%Y-%m-%d')\n",
    "    if (st_1 >= st_2) and (ed_1 <= ed_2):\n",
    "        return 1\n",
    "    else:\n",
    "        return 0"
   ]
  },
  {
   "cell_type": "code",
   "execution_count": 12,
   "id": "0dbdc303",
   "metadata": {},
   "outputs": [],
   "source": [
    "def get_data(ts_code,start_time,end_time,frequency):\n",
    "    result = ts.pro_bar(ts_code= ts_code , asset = 'FT',freq = frequency,start_date = start_time, end_date = end_time)\n",
    "    #trade_time类型修改：\n",
    "    result['trade_time'] = result['trade_time'].apply(lambda x:datetime.datetime.strptime(x,\"%Y-%m-%d %H:%M:%S\"))\n",
    "    #升序排列\n",
    "    result.sort_values(by = 'trade_time',ascending = True,inplace = True,ignore_index = True)\n",
    "    return result"
   ]
  },
  {
   "cell_type": "code",
   "execution_count": 13,
   "id": "bc4f236b",
   "metadata": {},
   "outputs": [],
   "source": [
    "@app.route('/<ts_code>/st=<start_time>ed=<end_time>freq=<frequency>')\n",
    "def goal_2(ts_code,start_time,end_time,frequency):\n",
    "    '''\n",
    "    ts_code是否正确\n",
    "    st和ed格式是否正确\n",
    "    获取ts_code合约时间\n",
    "    查询st和ed是否在该范围内\n",
    "    返回所有时间\n",
    "    '''\n",
    "    is_ts_index = is_ts_code(ts_code)\n",
    "    is_st_index = is_time(start_time)\n",
    "    is_ed_index = is_time(end_time)\n",
    "    if is_ts_index:\n",
    "        if is_st_index and is_ed_index:\n",
    "            if is_heyue(ts_code,start_time,end_time):\n",
    "                result = get_data(ts_code,start_time,end_time,frequency)\n",
    "                return result.to_json(orient=\"records\", force_ascii=False)\n",
    "            else:\n",
    "                return '输入时间段不在合约期间'\n",
    "        else:\n",
    "            return '时间格式错误'\n",
    "    else:\n",
    "        return 'ts_code错误'\n",
    "    "
   ]
  },
  {
   "cell_type": "markdown",
   "id": "ad01c484",
   "metadata": {},
   "source": [
    "# 目标3\n",
    "\n",
    "用户给定ts_code和时间和index(high,low,close,open),返回：①ts_code错误 ②ts_code正确但是时间不正确 ③ts_code正确且时间正确，返回数据"
   ]
  },
  {
   "cell_type": "code",
   "execution_count": 14,
   "id": "d3bc4cbe",
   "metadata": {},
   "outputs": [],
   "source": [
    "#@app.route('/<ts_code>/st=<start_time>ed=<end_time>freq=<frequency>/<key>')\n",
    "#def goal_3(ts_code,start_time,end_time,frequency,key):\n",
    "    #is_ts_index = is_ts_code(ts_code)\n",
    "    #is_st_index = is_time(start_time)\n",
    "    #is_ed_index = is_time(end_time)\n",
    "    #if is_ts_index:\n",
    "        #if is_st_index and is_ed_index:\n",
    "            #if is_heyue(ts_code,start_time,end_time):\n",
    "                #if key in ['open','high','low','close']:\n",
    "                    #result = ts.pro_bar(ts_code= ts_code , asset = 'FT',freq = frequency,start_date = start_time, end_date = end_time)[['trade_date',key]]\n",
    "                   # return result.to_json(orient=\"records\", force_ascii=False)\n",
    "                #else:\n",
    "                    #return '关键词必须为：open high low close'\n",
    "            #else:\n",
    "                #return '输入时间段不在合约期间'\n",
    "        #else:\n",
    "            #return '时间格式错误'\n",
    "    #else:\n",
    "        #return 'ts_code错误'"
   ]
  },
  {
   "cell_type": "markdown",
   "id": "6f6cebb2",
   "metadata": {},
   "source": [
    "# 目标4\n",
    "\n",
    "\n",
    "用户上传自定义策略，返回仓位\n",
    "\n",
    "\n",
    "注意点：自定义策略必须写在一个与.py文件同名的函数中,其实需要考虑重名问题，目前不管这个\n",
    "\n",
    "\n",
    "暂时未将用户上传的数据下载至后台中"
   ]
  },
  {
   "cell_type": "code",
   "execution_count": null,
   "id": "b15491a3",
   "metadata": {},
   "outputs": [],
   "source": [
    "def retreat(data):\n",
    "    '''\n",
    "    输入：策略结果\n",
    "    输出：输入的策略结果的基础上，新增一列,列名为retreat,数据为对应时间的回撤（%）\n",
    "    '''\n",
    "    data['retreat'] = data['total_cash'].shift(-1)\n",
    "    data['retreat'] = -(data['retreat']-data['total_cash'])/data['total_cash']*100\n",
    "    #如果只需要最大回撤 将下述代码的注释去掉\n",
    "    #data['retreat'] = max(data['retreat'])\n",
    "    return data"
   ]
  },
  {
   "cell_type": "code",
   "execution_count": 15,
   "id": "a3a9cc7e",
   "metadata": {},
   "outputs": [],
   "source": [
    "ALLOWED_EXTENSIONS = ['py']\n",
    "UPLOAD_FOLDER = '.\\\\upload'\n",
    "ALLOWED_STRATEGY = ['R_breaker','Dual_Thrust','ATR']\n",
    "def allowed_file(filename):\n",
    "    return '.' in filename and \\\n",
    "           filename.rsplit('.', 1)[1] in ALLOWED_EXTENSIONS\n",
    "@app.route('/<ts_code>/st=<start_time>ed=<end_time>freq=<frequency>/strategy=<stg>',methods=['POST', 'GET'])\n",
    "def goal_4(ts_code,start_time,end_time,frequency,stg):\n",
    "    '''\n",
    "    查询strategy是否正确：目前先假设只有custum\n",
    "    获取策略\n",
    "    返回仓位\n",
    "    '''\n",
    "    if stg not in ALLOWED_STRATEGY and stg!='custom':\n",
    "        return  \"系统暂不支持该策略，请查询使用指南\"\n",
    "    else:\n",
    "        #如果策略为CUSTOM：返回HTML页面供用户返回POST请求\n",
    "        if stg == 'custom':\n",
    "            if request.method == 'GET':\n",
    "                return render_template('upload.html')\n",
    "            if request.method == 'POST':\n",
    "                file = request.files['file']\n",
    "                #\n",
    "                if file and allowed_file(file.filename):\n",
    "                    global index\n",
    "                    filename1 = 'strategy'+str(index)+'.py'\n",
    "                    filename2 = 'strategy'+str(index)\n",
    "                    strategyname = 'my_strategy'+str(index)\n",
    "                    index += 1\n",
    "                    #保存文件至本地\n",
    "                    file.save(os.path.join(UPLOAD_FOLDER,filename1))\n",
    "                    #获取函数\n",
    "                    sys.path.append(r'.\\upload')\n",
    "                    md = __import__(filename2)\n",
    "                    #获得数据\n",
    "                    #data = get_data(ts_code,start_time,end_time,frequency)\n",
    "                    #此处为了避免限制，先使用后台数据，后面注释掉就好\n",
    "                    data = pd.read_csv(r'.\\data.csv')\n",
    "                    data['trade_time'] = data['trade_time'].apply(lambda x:datetime.datetime.strptime(x,\"%Y-%m-%d %H:%M:%S\"))\n",
    "                    #升序排列\n",
    "                    data.sort_values(by = 'trade_time',ascending = True,inplace = True,ignore_index = True)\n",
    "                    #运行自定义策略，得到结果\n",
    "                    result = md.my_strategy(data)\n",
    "                    result = retreat(result)\n",
    "                    return result.to_json(orient=\"records\", force_ascii=False)\n",
    "                else:\n",
    "                    return '文件后缀名必须为.py'\n",
    "        else:\n",
    "            if stg == 'R_breaker':\n",
    "                #获得数据\n",
    "                #data = get_data(ts_code,start_time,end_time,frequency)\n",
    "                #此处为了避免限制，先使用后台数据，后面注释掉就好\n",
    "                data = pd.read_csv(r'.\\data.csv')\n",
    "                data['trade_time'] = data['trade_time'].apply(lambda x:datetime.datetime.strptime(x,\"%Y-%m-%d %H:%M:%S\"))\n",
    "                #升序排列\n",
    "                data.sort_values(by = 'trade_time',ascending = True,inplace = True,ignore_index = True)\n",
    "                #运行自定义策略，得到结果\n",
    "                result = R_breaker(data)\n",
    "                result = retreat(result)\n",
    "                return result.to_json(orient=\"records\", force_ascii=False)\n",
    "          \n",
    "        "
   ]
  },
  {
   "cell_type": "code",
   "execution_count": 16,
   "id": "a6daa780",
   "metadata": {},
   "outputs": [
    {
     "name": "stdout",
     "output_type": "stream",
     "text": [
      " * Serving Flask app '__main__'\n",
      " * Debug mode: on\n",
      "2023-04-17 01:42:01,727 - werkzeug - INFO - \u001b[31m\u001b[1mWARNING: This is a development server. Do not use it in a production deployment. Use a production WSGI server instead.\u001b[0m\n",
      " * Running on http://127.0.0.1:5000\n",
      "2023-04-17 01:42:01,729 - werkzeug - INFO - \u001b[33mPress CTRL+C to quit\u001b[0m\n",
      "2023-04-17 01:42:01,732 - werkzeug - INFO -  * Restarting with stat\n"
     ]
    },
    {
     "ename": "SystemExit",
     "evalue": "1",
     "output_type": "error",
     "traceback": [
      "An exception has occurred, use %tb to see the full traceback.\n",
      "\u001b[1;31mSystemExit\u001b[0m\u001b[1;31m:\u001b[0m 1\n"
     ]
    },
    {
     "name": "stderr",
     "output_type": "stream",
     "text": [
      "C:\\Users\\Lenovo\\AppData\\Local\\Packages\\PythonSoftwareFoundation.Python.3.10_qbz5n2kfra8p0\\LocalCache\\local-packages\\Python310\\site-packages\\IPython\\core\\interactiveshell.py:3450: UserWarning: To exit: use 'exit', 'quit', or Ctrl-D.\n",
      "  warn(\"To exit: use 'exit', 'quit', or Ctrl-D.\", stacklevel=1)\n"
     ]
    }
   ],
   "source": [
    "if __name__ == '__main__':\n",
    "    app.run(debug=True)"
   ]
  }
 ],
 "metadata": {
  "kernelspec": {
   "display_name": "Python 3 (ipykernel)",
   "language": "python",
   "name": "python3"
  },
  "language_info": {
   "codemirror_mode": {
    "name": "ipython",
    "version": 3
   },
   "file_extension": ".py",
   "mimetype": "text/x-python",
   "name": "python",
   "nbconvert_exporter": "python",
   "pygments_lexer": "ipython3",
   "version": "3.9.8"
  },
  "vscode": {
   "interpreter": {
    "hash": "854ad7b50770bedaf0cab730b1aaabb765566ea98036f134b639e260bede141e"
   }
  }
 },
 "nbformat": 4,
 "nbformat_minor": 5
}
