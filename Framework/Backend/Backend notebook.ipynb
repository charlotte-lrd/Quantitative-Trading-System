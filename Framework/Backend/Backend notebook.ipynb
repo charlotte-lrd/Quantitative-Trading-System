{
 "cells": [
  {
   "cell_type": "markdown",
   "id": "21eb3193",
   "metadata": {},
   "source": [
    "# 初始化"
   ]
  },
  {
   "cell_type": "code",
   "execution_count": 3,
   "id": "80159704",
   "metadata": {},
   "outputs": [],
   "source": [
    "import tushare as ts\n",
    "import pandas as pd\n",
    "import numpy as np\n",
    "from flask import Flask,render_template\n",
    "import string\n",
    "from datetime import datetime\n",
    "import os"
   ]
  },
  {
   "cell_type": "code",
   "execution_count": 4,
   "id": "71d7d4f6",
   "metadata": {},
   "outputs": [],
   "source": [
    "token='e9b31113ccd628c7933a0af4e9c45f38aee75b5d9a4fb89fde3c460a'\n",
    "ts.set_token(token)\n",
    "pro = ts.pro_api()"
   ]
  },
  {
   "cell_type": "markdown",
   "id": "136ff4de",
   "metadata": {},
   "source": [
    "# 输入格式说明"
   ]
  },
  {
   "cell_type": "markdown",
   "id": "06dab3b8",
   "metadata": {},
   "source": [
    "## ts_code\n",
    "\n",
    "见文档：https://tushare.pro/document/2?doc_id=134"
   ]
  },
  {
   "cell_type": "markdown",
   "id": "35ab9005",
   "metadata": {},
   "source": [
    "## start_time/end_time\n",
    "\n",
    "*号表示可以不输入，\n",
    "\n",
    "\n",
    "格式：YYYYMMDD\n",
    "\n",
    "\n",
    "example:20230317"
   ]
  },
  {
   "cell_type": "markdown",
   "id": "a1540d32",
   "metadata": {},
   "source": [
    "## frequency\n",
    "见文档：https://tushare.pro/document/2?doc_id=109 中对freq的说明部分"
   ]
  },
  {
   "cell_type": "markdown",
   "id": "a356c39b",
   "metadata": {},
   "source": [
    "## key\n",
    "见文档：https://tushare.pro/document/2?doc_id=138 中对输出参数的说明"
   ]
  },
  {
   "cell_type": "markdown",
   "id": "962a793e",
   "metadata": {},
   "source": [
    "# Tushare使用"
   ]
  },
  {
   "cell_type": "markdown",
   "id": "c79b2e3d",
   "metadata": {},
   "source": [
    "# fut_basic\n",
    "获取某交易所期货合约列表数据\n",
    "\n",
    "\n",
    "用于判断ts_code是否正确\n",
    "\n",
    "\n",
    "文档见：https://tushare.pro/document/2?doc_id=135"
   ]
  },
  {
   "cell_type": "code",
   "execution_count": 5,
   "id": "ce288de8",
   "metadata": {},
   "outputs": [],
   "source": [
    "#交易所代码 CFFEX-中金所 DCE-大商所 CZCE-郑商所 SHFE-上期所 INE-上海国际能源交易中心 GFEX-广州期货交易所\n",
    "df1 = pro.fut_basic(exchange='GFEX', fut_type='1', fields='ts_code,symbol,name,list_date,delist_date')"
   ]
  },
  {
   "cell_type": "code",
   "execution_count": 6,
   "id": "2165542f",
   "metadata": {},
   "outputs": [
    {
     "data": {
      "text/html": [
       "<div>\n",
       "<style scoped>\n",
       "    .dataframe tbody tr th:only-of-type {\n",
       "        vertical-align: middle;\n",
       "    }\n",
       "\n",
       "    .dataframe tbody tr th {\n",
       "        vertical-align: top;\n",
       "    }\n",
       "\n",
       "    .dataframe thead th {\n",
       "        text-align: right;\n",
       "    }\n",
       "</style>\n",
       "<table border=\"1\" class=\"dataframe\">\n",
       "  <thead>\n",
       "    <tr style=\"text-align: right;\">\n",
       "      <th></th>\n",
       "      <th>ts_code</th>\n",
       "      <th>symbol</th>\n",
       "      <th>name</th>\n",
       "      <th>list_date</th>\n",
       "      <th>delist_date</th>\n",
       "    </tr>\n",
       "  </thead>\n",
       "  <tbody>\n",
       "    <tr>\n",
       "      <th>0</th>\n",
       "      <td>SI2402.GFE</td>\n",
       "      <td>SI2402</td>\n",
       "      <td>工业硅2402</td>\n",
       "      <td>20230215</td>\n",
       "      <td>20240214</td>\n",
       "    </tr>\n",
       "    <tr>\n",
       "      <th>1</th>\n",
       "      <td>SI2401.GFE</td>\n",
       "      <td>SI2401</td>\n",
       "      <td>工业硅2401</td>\n",
       "      <td>20230117</td>\n",
       "      <td>20240116</td>\n",
       "    </tr>\n",
       "    <tr>\n",
       "      <th>2</th>\n",
       "      <td>SI2403.GFE</td>\n",
       "      <td>SI2403</td>\n",
       "      <td>工业硅2403</td>\n",
       "      <td>20230315</td>\n",
       "      <td>20240314</td>\n",
       "    </tr>\n",
       "    <tr>\n",
       "      <th>3</th>\n",
       "      <td>SI2308.GFE</td>\n",
       "      <td>SI2308</td>\n",
       "      <td>工业硅2308</td>\n",
       "      <td>20221222</td>\n",
       "      <td>20230814</td>\n",
       "    </tr>\n",
       "    <tr>\n",
       "      <th>4</th>\n",
       "      <td>SI2309.GFE</td>\n",
       "      <td>SI2309</td>\n",
       "      <td>工业硅2309</td>\n",
       "      <td>20221222</td>\n",
       "      <td>20230914</td>\n",
       "    </tr>\n",
       "  </tbody>\n",
       "</table>\n",
       "</div>"
      ],
      "text/plain": [
       "      ts_code  symbol     name list_date delist_date\n",
       "0  SI2402.GFE  SI2402  工业硅2402  20230215    20240214\n",
       "1  SI2401.GFE  SI2401  工业硅2401  20230117    20240116\n",
       "2  SI2403.GFE  SI2403  工业硅2403  20230315    20240314\n",
       "3  SI2308.GFE  SI2308  工业硅2308  20221222    20230814\n",
       "4  SI2309.GFE  SI2309  工业硅2309  20221222    20230914"
      ]
     },
     "execution_count": 6,
     "metadata": {},
     "output_type": "execute_result"
    }
   ],
   "source": [
    "df1.head()"
   ]
  },
  {
   "cell_type": "markdown",
   "id": "14bc1489",
   "metadata": {},
   "source": [
    "# pro_bar()\n",
    "用于获得期货数据\n",
    "\n",
    "\n",
    "文档见：https://tushare.pro/document/2?doc_id=109"
   ]
  },
  {
   "cell_type": "code",
   "execution_count": 8,
   "id": "b148ede1",
   "metadata": {},
   "outputs": [],
   "source": [
    "df2 = ts.pro_bar(ts_code='CU1811.SHF', asset = 'FT',freq = 'D',start_date='20180101', end_date='20181113')"
   ]
  },
  {
   "cell_type": "code",
   "execution_count": 9,
   "id": "4421f4fb",
   "metadata": {},
   "outputs": [
    {
     "data": {
      "text/html": [
       "<div>\n",
       "<style scoped>\n",
       "    .dataframe tbody tr th:only-of-type {\n",
       "        vertical-align: middle;\n",
       "    }\n",
       "\n",
       "    .dataframe tbody tr th {\n",
       "        vertical-align: top;\n",
       "    }\n",
       "\n",
       "    .dataframe thead th {\n",
       "        text-align: right;\n",
       "    }\n",
       "</style>\n",
       "<table border=\"1\" class=\"dataframe\">\n",
       "  <thead>\n",
       "    <tr style=\"text-align: right;\">\n",
       "      <th></th>\n",
       "      <th>ts_code</th>\n",
       "      <th>trade_date</th>\n",
       "      <th>pre_close</th>\n",
       "      <th>pre_settle</th>\n",
       "      <th>open</th>\n",
       "      <th>high</th>\n",
       "      <th>low</th>\n",
       "      <th>close</th>\n",
       "      <th>settle</th>\n",
       "      <th>change1</th>\n",
       "      <th>change2</th>\n",
       "      <th>vol</th>\n",
       "      <th>amount</th>\n",
       "      <th>oi</th>\n",
       "      <th>oi_chg</th>\n",
       "    </tr>\n",
       "  </thead>\n",
       "  <tbody>\n",
       "    <tr>\n",
       "      <th>0</th>\n",
       "      <td>CU1811.SHF</td>\n",
       "      <td>20181113</td>\n",
       "      <td>48900.0</td>\n",
       "      <td>49030.0</td>\n",
       "      <td>48910.0</td>\n",
       "      <td>49040.0</td>\n",
       "      <td>48700.0</td>\n",
       "      <td>49030.0</td>\n",
       "      <td>48830.0</td>\n",
       "      <td>0.0</td>\n",
       "      <td>-200.0</td>\n",
       "      <td>17270.0</td>\n",
       "      <td>421721.70</td>\n",
       "      <td>16110.0</td>\n",
       "      <td>-6830.0</td>\n",
       "    </tr>\n",
       "    <tr>\n",
       "      <th>1</th>\n",
       "      <td>CU1811.SHF</td>\n",
       "      <td>20181112</td>\n",
       "      <td>49270.0</td>\n",
       "      <td>49340.0</td>\n",
       "      <td>49130.0</td>\n",
       "      <td>49200.0</td>\n",
       "      <td>48860.0</td>\n",
       "      <td>48900.0</td>\n",
       "      <td>49030.0</td>\n",
       "      <td>-440.0</td>\n",
       "      <td>-310.0</td>\n",
       "      <td>27710.0</td>\n",
       "      <td>679447.85</td>\n",
       "      <td>22940.0</td>\n",
       "      <td>-7160.0</td>\n",
       "    </tr>\n",
       "    <tr>\n",
       "      <th>2</th>\n",
       "      <td>CU1811.SHF</td>\n",
       "      <td>20181109</td>\n",
       "      <td>49440.0</td>\n",
       "      <td>49500.0</td>\n",
       "      <td>49340.0</td>\n",
       "      <td>49530.0</td>\n",
       "      <td>49120.0</td>\n",
       "      <td>49270.0</td>\n",
       "      <td>49340.0</td>\n",
       "      <td>-230.0</td>\n",
       "      <td>-160.0</td>\n",
       "      <td>22530.0</td>\n",
       "      <td>555910.15</td>\n",
       "      <td>30100.0</td>\n",
       "      <td>-4700.0</td>\n",
       "    </tr>\n",
       "    <tr>\n",
       "      <th>3</th>\n",
       "      <td>CU1811.SHF</td>\n",
       "      <td>20181108</td>\n",
       "      <td>49470.0</td>\n",
       "      <td>49460.0</td>\n",
       "      <td>49600.0</td>\n",
       "      <td>49680.0</td>\n",
       "      <td>49350.0</td>\n",
       "      <td>49440.0</td>\n",
       "      <td>49500.0</td>\n",
       "      <td>-20.0</td>\n",
       "      <td>40.0</td>\n",
       "      <td>22290.0</td>\n",
       "      <td>551708.00</td>\n",
       "      <td>34800.0</td>\n",
       "      <td>-3530.0</td>\n",
       "    </tr>\n",
       "    <tr>\n",
       "      <th>4</th>\n",
       "      <td>CU1811.SHF</td>\n",
       "      <td>20181107</td>\n",
       "      <td>49670.0</td>\n",
       "      <td>49630.0</td>\n",
       "      <td>49640.0</td>\n",
       "      <td>49850.0</td>\n",
       "      <td>49260.0</td>\n",
       "      <td>49470.0</td>\n",
       "      <td>49460.0</td>\n",
       "      <td>-160.0</td>\n",
       "      <td>-170.0</td>\n",
       "      <td>26850.0</td>\n",
       "      <td>664040.10</td>\n",
       "      <td>38330.0</td>\n",
       "      <td>-4560.0</td>\n",
       "    </tr>\n",
       "  </tbody>\n",
       "</table>\n",
       "</div>"
      ],
      "text/plain": [
       "      ts_code trade_date  pre_close  pre_settle     open     high      low  \\\n",
       "0  CU1811.SHF   20181113    48900.0     49030.0  48910.0  49040.0  48700.0   \n",
       "1  CU1811.SHF   20181112    49270.0     49340.0  49130.0  49200.0  48860.0   \n",
       "2  CU1811.SHF   20181109    49440.0     49500.0  49340.0  49530.0  49120.0   \n",
       "3  CU1811.SHF   20181108    49470.0     49460.0  49600.0  49680.0  49350.0   \n",
       "4  CU1811.SHF   20181107    49670.0     49630.0  49640.0  49850.0  49260.0   \n",
       "\n",
       "     close   settle  change1  change2      vol     amount       oi  oi_chg  \n",
       "0  49030.0  48830.0      0.0   -200.0  17270.0  421721.70  16110.0 -6830.0  \n",
       "1  48900.0  49030.0   -440.0   -310.0  27710.0  679447.85  22940.0 -7160.0  \n",
       "2  49270.0  49340.0   -230.0   -160.0  22530.0  555910.15  30100.0 -4700.0  \n",
       "3  49440.0  49500.0    -20.0     40.0  22290.0  551708.00  34800.0 -3530.0  \n",
       "4  49470.0  49460.0   -160.0   -170.0  26850.0  664040.10  38330.0 -4560.0  "
      ]
     },
     "execution_count": 9,
     "metadata": {},
     "output_type": "execute_result"
    }
   ],
   "source": [
    "df2.head()"
   ]
  }
 ],
 "metadata": {
  "kernelspec": {
   "display_name": "Python 3",
   "language": "python",
   "name": "python3"
  },
  "language_info": {
   "codemirror_mode": {
    "name": "ipython",
    "version": 3
   },
   "file_extension": ".py",
   "mimetype": "text/x-python",
   "name": "python",
   "nbconvert_exporter": "python",
   "pygments_lexer": "ipython3",
   "version": "3.10.11 (tags/v3.10.11:7d4cc5a, Apr  5 2023, 00:38:17) [MSC v.1929 64 bit (AMD64)]"
  },
  "vscode": {
   "interpreter": {
    "hash": "854ad7b50770bedaf0cab730b1aaabb765566ea98036f134b639e260bede141e"
   }
  }
 },
 "nbformat": 4,
 "nbformat_minor": 5
}
